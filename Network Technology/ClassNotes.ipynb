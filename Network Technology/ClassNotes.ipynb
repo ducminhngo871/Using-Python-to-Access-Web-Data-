{
  "nbformat": 4,
  "nbformat_minor": 0,
  "metadata": {
    "colab": {
      "name": "Network Technology.ipynb",
      "provenance": [],
      "authorship_tag": "ABX9TyMKomEzHPx5mwCfoG6gmY/j",
      "include_colab_link": true
    },
    "kernelspec": {
      "name": "python3",
      "display_name": "Python 3"
    },
    "language_info": {
      "name": "python"
    }
  },
  "cells": [
    {
      "cell_type": "markdown",
      "metadata": {
        "id": "view-in-github",
        "colab_type": "text"
      },
      "source": [
        "<a href=\"https://colab.research.google.com/github/ducminhngo871/Using-Python-to-Access-Web-Data-/blob/main/Network%20Technology/ClassNotes.ipynb\" target=\"_parent\"><img src=\"https://colab.research.google.com/assets/colab-badge.svg\" alt=\"Open In Colab\"/></a>"
      ]
    },
    {
      "cell_type": "code",
      "execution_count": null,
      "metadata": {
        "id": "miLjJ16PV66f"
      },
      "outputs": [],
      "source": [
        "import socket\n",
        "mysock = socket.socket(socket.AF_INET, socket.SOCK_STREAM)\n",
        "mysock.connect(('data.pr4e.org',80))"
      ]
    }
  ]
}