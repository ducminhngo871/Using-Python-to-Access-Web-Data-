{
  "nbformat": 4,
  "nbformat_minor": 0,
  "metadata": {
    "colab": {
      "name": "XML Parsing Course Notes.ipynb",
      "provenance": [],
      "authorship_tag": "ABX9TyOnPmJ+aL6hirY1mjsd7/kG",
      "include_colab_link": true
    },
    "kernelspec": {
      "name": "python3",
      "display_name": "Python 3"
    },
    "language_info": {
      "name": "python"
    }
  },
  "cells": [
    {
      "cell_type": "markdown",
      "metadata": {
        "id": "view-in-github",
        "colab_type": "text"
      },
      "source": [
        "<a href=\"https://colab.research.google.com/github/ducminhngo871/Using-Python-to-Access-Web-Data-/blob/main/XML_Parsing/Course_Notes.ipynb\" target=\"_parent\"><img src=\"https://colab.research.google.com/assets/colab-badge.svg\" alt=\"Open In Colab\"/></a>"
      ]
    },
    {
      "cell_type": "code",
      "execution_count": 10,
      "metadata": {
        "id": "PJZl729RpXFb",
        "colab": {
          "base_uri": "https://localhost:8080/"
        },
        "outputId": "749b5c9d-39a1-432e-c5a4-d794fb684193"
      },
      "outputs": [
        {
          "output_type": "stream",
          "name": "stdout",
          "text": [
            "Name: Chuck \n",
            "Attr yes\n"
          ]
        }
      ],
      "source": [
        "import xml.etree.ElementTree as ET\n",
        "data = '''<person>\n",
        "  <name>Chuck </name>\n",
        "  <phone type = \"intl\">\n",
        "  +1 704 290 386\n",
        "  </phone>\n",
        "  <email hide = \"yes\"/>\n",
        "  </person>'''\n",
        "\n",
        "tree = ET.fromstring(data)\n",
        "#print(tree)\n",
        "print('Name:', tree.find('name').text)\n",
        "print('Attr', tree.find('email').get('hide'))"
      ]
    }
  ]
}