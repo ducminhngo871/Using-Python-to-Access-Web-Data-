{
  "nbformat": 4,
  "nbformat_minor": 0,
  "metadata": {
    "colab": {
      "name": "XMLAssignment.ipynb",
      "provenance": [],
      "authorship_tag": "ABX9TyNCcP8YB6FIkQVYmcNRBMoG",
      "include_colab_link": true
    },
    "kernelspec": {
      "name": "python3",
      "display_name": "Python 3"
    },
    "language_info": {
      "name": "python"
    }
  },
  "cells": [
    {
      "cell_type": "markdown",
      "metadata": {
        "id": "view-in-github",
        "colab_type": "text"
      },
      "source": [
        "<a href=\"https://colab.research.google.com/github/ducminhngo871/Using-Python-to-Access-Web-Data-/blob/main/XML_Parsing/XMLAssignment.ipynb\" target=\"_parent\"><img src=\"https://colab.research.google.com/assets/colab-badge.svg\" alt=\"Open In Colab\"/></a>"
      ]
    },
    {
      "cell_type": "code",
      "execution_count": 11,
      "metadata": {
        "colab": {
          "base_uri": "https://localhost:8080/"
        },
        "id": "HmUHoOJcsa_f",
        "outputId": "8273ba7e-773d-4cac-9d90-b98a55c3c970"
      },
      "outputs": [
        {
          "output_type": "stream",
          "name": "stdout",
          "text": [
            "Retrieving from  http://py4e-data.dr-chuck.net/comments_1542206.xml\n",
            "50\n",
            "2660\n"
          ]
        }
      ],
      "source": [
        "import urllib.request, urllib.parse, urllib.error\n",
        "import xml.etree.ElementTree as ET\n",
        "import ssl\n",
        "\n",
        "# Ignore SSL certificate errors\n",
        "ctx = ssl.create_default_context()\n",
        "ctx.check_hostname = False\n",
        "ctx.verify_mode = ssl.CERT_NONE\n",
        "\n",
        "url = \"http://py4e-data.dr-chuck.net/comments_1542206.xml\"\n",
        "\n",
        "total_number = 0\n",
        "sum = 0\n",
        "\n",
        "print('Retrieving from ', url)\n",
        "xml = urllib.request.urlopen(url).read()\n",
        "\n",
        "tree = ET.fromstring(xml)\n",
        "counts = tree.findall('.//count')\n",
        "for count in counts:\n",
        "    sum += int(count.text)\n",
        "    total_number += 1\n",
        "\n",
        "print(total_number)\n",
        "print(sum)"
      ]
    }
  ]
}