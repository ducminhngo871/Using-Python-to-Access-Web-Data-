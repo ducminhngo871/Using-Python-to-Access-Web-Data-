{
  "nbformat": 4,
  "nbformat_minor": 0,
  "metadata": {
    "colab": {
      "name": "BeautifulSoupAssignment.ipynb",
      "provenance": [],
      "authorship_tag": "ABX9TyOVB0dcGLw4R2eA3vk3yA7/",
      "include_colab_link": true
    },
    "kernelspec": {
      "name": "python3",
      "display_name": "Python 3"
    },
    "language_info": {
      "name": "python"
    }
  },
  "cells": [
    {
      "cell_type": "markdown",
      "metadata": {
        "id": "view-in-github",
        "colab_type": "text"
      },
      "source": [
        "<a href=\"https://colab.research.google.com/github/ducminhngo871/Using-Python-to-Access-Web-Data-/blob/main/Urllib%20and%20Beautiful%20Soup/Assignment.ipynb\" target=\"_parent\"><img src=\"https://colab.research.google.com/assets/colab-badge.svg\" alt=\"Open In Colab\"/></a>"
      ]
    },
    {
      "cell_type": "markdown",
      "source": [
        "Topic: \n",
        "Following Links in Python\n",
        "\n",
        "In this assignment you will write a Python program that expands on http://www.py4e.com/code3/urllinks.py. The program will use urllib to read the HTML from the data files below, extract the href= vaues from the anchor tags, scan for a tag that is in a particular position relative to the first name in the list, follow that link and repeat the process a number of times and report the last name you find.\n",
        "\n",
        "We provide two files for this assignment. One is a sample file where we give you the name for your testing and the other is the actual data you need to process for the assignment\n",
        "\n",
        "Sample problem: Start at http://py4e-data.dr-chuck.net/known_by_Fikret.html\n",
        "Find the link at position 3 (the first name is 1). Follow that link. Repeat this process 4 times. The answer is the last name that you retrieve.\n",
        "Sequence of names: Fikret Montgomery Mhairade Butchi Anayah\n",
        "Last name in sequence: Anayah\n",
        "Actual problem: Start at: http://py4e-data.dr-chuck.net/known_by_Sanna.html\n",
        "Find the link at position 18 (the first name is 1). Follow that link. Repeat this process 7 times. The answer is the last name that you retrieve.\n",
        "Hint: The first character of the name of the last page that you will load is: L\n",
        "Strategy\n",
        "The web pages tweak the height between the links and hide the page after a few seconds to make it difficult for you to do the assignment without writing a Python program. But frankly with a little effort and patience you can overcome these attempts to make it a little harder to complete the assignment without writing a Python program. But that is not the point. The point is to write a clever Python program to solve the program.\n",
        "\n",
        "Sample execution\n",
        "\n",
        "Here is a sample execution of a solution:\n",
        "\n",
        "$ python3 solution.py\n",
        "\n",
        "Enter URL: http://py4e-data.dr-chuck.net/known_by_Fikret.html\n",
        "\n",
        "Enter count: 4\n",
        "\n",
        "Enter position: 3\n",
        "\n",
        "Retrieving: http://py4e-data.dr-chuck.net/known_by_Fikret.html\n",
        "\n",
        "Retrieving: http://py4e-data.dr-chuck.net/known_by_Montgomery.html\n",
        "\n",
        "Retrieving: http://py4e-data.dr-chuck.net/known_by_Mhairade.html\n",
        "\n",
        "Retrieving: http://py4e-data.dr-chuck.net/known_by_Butchi.html\n",
        "\n",
        "Retrieving: http://py4e-data.dr-chuck.net/known_by_Anayah.html"
      ],
      "metadata": {
        "id": "-1yqPjtFQkLm"
      }
    },
    {
      "cell_type": "code",
      "execution_count": null,
      "metadata": {
        "colab": {
          "base_uri": "https://localhost:8080/"
        },
        "id": "rFDfT4-TQhEB",
        "outputId": "7d378ad3-e6c3-4ec0-8a52-e467c2172902"
      },
      "outputs": [
        {
          "output_type": "stream",
          "name": "stdout",
          "text": [
            "Process round 7\n",
            "target: <a href=\"http://py4e-data.dr-chuck.net/known_by_Jarno.html\">Jarno</a>\n",
            "Current url http://py4e-data.dr-chuck.net/known_by_Jarno.html\n",
            "Process round 6\n",
            "target: <a href=\"http://py4e-data.dr-chuck.net/known_by_Cambell.html\">Cambell</a>\n",
            "Current url http://py4e-data.dr-chuck.net/known_by_Cambell.html\n",
            "Process round 5\n",
            "target: <a href=\"http://py4e-data.dr-chuck.net/known_by_Astrid.html\">Astrid</a>\n",
            "Current url http://py4e-data.dr-chuck.net/known_by_Astrid.html\n",
            "Process round 4\n",
            "target: <a href=\"http://py4e-data.dr-chuck.net/known_by_Aleese.html\">Aleese</a>\n",
            "Current url http://py4e-data.dr-chuck.net/known_by_Aleese.html\n",
            "Process round 3\n",
            "target: <a href=\"http://py4e-data.dr-chuck.net/known_by_Muskaan.html\">Muskaan</a>\n",
            "Current url http://py4e-data.dr-chuck.net/known_by_Muskaan.html\n",
            "Process round 2\n",
            "target: <a href=\"http://py4e-data.dr-chuck.net/known_by_Bekim.html\">Bekim</a>\n",
            "Current url http://py4e-data.dr-chuck.net/known_by_Bekim.html\n",
            "Process round 1\n",
            "target: <a href=\"http://py4e-data.dr-chuck.net/known_by_Liala.html\">Liala</a>\n",
            "Current url http://py4e-data.dr-chuck.net/known_by_Liala.html\n"
          ]
        }
      ],
      "source": [
        "import urllib.request, urllib.parse, urllib.error\n",
        "from bs4 import BeautifulSoup\n",
        "import ssl\n",
        "\n",
        "# Ignore SSL certificate errors\n",
        "ctx = ssl.create_default_context()\n",
        "ctx.check_hostname = False\n",
        "ctx.verify_mode = ssl.CERT_NONE\n",
        "\n",
        "url = \"https://py4e-data.dr-chuck.net/known_by_Sanna.html\"\n",
        "html = urllib.request.urlopen(url, context=ctx).read()\n",
        "soup = BeautifulSoup(html, 'html.parser')\n",
        "\n",
        "all_num_list = list()\n",
        "link_position = 18\n",
        "Process_repeat = 7\n",
        "\n",
        "tags = soup('a')\n",
        "\n",
        "while Process_repeat - 1  >= 0 :\n",
        "    print(\"Process round\", Process_repeat)\n",
        "    target = tags[link_position - 1]\n",
        "    print(\"target:\", target)\n",
        "    url = target.get('href', 2)\n",
        "    print(\"Current url\", url)\n",
        "    html = urllib.request.urlopen(url).read()\n",
        "    soup = BeautifulSoup(html, 'html.parser')\n",
        "    tags = soup('a')\n",
        "    Process_repeat = Process_repeat - 1\n",
        "    "
      ]
    },
    {
      "cell_type": "code",
      "source": [
        "import urllib.request, urllib.parse, urllib.error\n",
        "from bs4 import BeautifulSoup\n",
        "import ssl\n",
        "\n",
        "# Ignore SSL certificate errors\n",
        "ctx = ssl.create_default_context()\n",
        "ctx.check_hostname = False\n",
        "ctx.verify_mode = ssl.CERT_NONE\n",
        "\n",
        "url = \"https://py4e-data.dr-chuck.net/known_by_Sanna.html\"\n",
        "html = urllib.request.urlopen(url, context=ctx).read()\n",
        "soup = BeautifulSoup(html, 'html.parser')\n",
        "\n",
        "all_num_list = list()\n",
        "link_position = 18\n",
        "Process_repeat = 7\n",
        "\n",
        "tags = soup('a')\n",
        "\n",
        "for i in range(Process_repeat):\n",
        "    print(\"Process round\", Process_repeat)\n",
        "    target = tags[link_position - 1]\n",
        "    print(\"target:\", target)\n",
        "    url = target.get('href', None)\n",
        "    print(\"Current url\", url)\n",
        "    html = urllib.request.urlopen(url).read()\n",
        "    soup = BeautifulSoup(html, 'html.parser')\n",
        "    tags = soup('a')\n"
      ],
      "metadata": {
        "colab": {
          "base_uri": "https://localhost:8080/"
        },
        "id": "nlsRVJA-T6iO",
        "outputId": "efa84bac-cdbe-4c7e-a02a-1a326e58a296"
      },
      "execution_count": null,
      "outputs": [
        {
          "output_type": "stream",
          "name": "stdout",
          "text": [
            "Process round 7\n",
            "target: <a href=\"http://py4e-data.dr-chuck.net/known_by_Jarno.html\">Jarno</a>\n",
            "Current url http://py4e-data.dr-chuck.net/known_by_Jarno.html\n",
            "Process round 7\n",
            "target: <a href=\"http://py4e-data.dr-chuck.net/known_by_Cambell.html\">Cambell</a>\n",
            "Current url http://py4e-data.dr-chuck.net/known_by_Cambell.html\n",
            "Process round 7\n",
            "target: <a href=\"http://py4e-data.dr-chuck.net/known_by_Astrid.html\">Astrid</a>\n",
            "Current url http://py4e-data.dr-chuck.net/known_by_Astrid.html\n",
            "Process round 7\n",
            "target: <a href=\"http://py4e-data.dr-chuck.net/known_by_Aleese.html\">Aleese</a>\n",
            "Current url http://py4e-data.dr-chuck.net/known_by_Aleese.html\n",
            "Process round 7\n",
            "target: <a href=\"http://py4e-data.dr-chuck.net/known_by_Muskaan.html\">Muskaan</a>\n",
            "Current url http://py4e-data.dr-chuck.net/known_by_Muskaan.html\n",
            "Process round 7\n",
            "target: <a href=\"http://py4e-data.dr-chuck.net/known_by_Bekim.html\">Bekim</a>\n",
            "Current url http://py4e-data.dr-chuck.net/known_by_Bekim.html\n",
            "Process round 7\n",
            "target: <a href=\"http://py4e-data.dr-chuck.net/known_by_Liala.html\">Liala</a>\n",
            "Current url http://py4e-data.dr-chuck.net/known_by_Liala.html\n"
          ]
        }
      ]
    }
  ]
}