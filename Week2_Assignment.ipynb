{
  "nbformat": 4,
  "nbformat_minor": 0,
  "metadata": {
    "colab": {
      "name": "Week2 Assignment.ipynb",
      "provenance": [],
      "collapsed_sections": [],
      "mount_file_id": "16pou88_Jk7Q8P4D1vIFm5Kou2qUw6EIf",
      "authorship_tag": "ABX9TyOma/c2kUEHp/MqAHBzvfXz",
      "include_colab_link": true
    },
    "kernelspec": {
      "name": "python3",
      "display_name": "Python 3"
    },
    "language_info": {
      "name": "python"
    }
  },
  "cells": [
    {
      "cell_type": "markdown",
      "metadata": {
        "id": "view-in-github",
        "colab_type": "text"
      },
      "source": [
        "<a href=\"https://colab.research.google.com/github/ducminhngo871/Using-Python-to-Access-Web-Data-/blob/main/Week2_Assignment.ipynb\" target=\"_parent\"><img src=\"https://colab.research.google.com/assets/colab-badge.svg\" alt=\"Open In Colab\"/></a>"
      ]
    },
    {
      "cell_type": "markdown",
      "source": [
        "\n",
        "Week 2 Assignment\n",
        "Finding Numbers in a Haystack\n",
        "\n",
        "Data Format\n",
        "The file contains much of the text from the introduction of the textbook except that random numbers\n",
        "are inserted throughout the text. Here is a sample of the output you might see:\n",
        "\n",
        "Why should you learn to write programs? 7746\n",
        "12 1929 8827\n",
        "Writing programs (or programming) is a very creative\n",
        "7 and rewarding activity.  You can write programs for\n",
        "many reasons, ranging from making your living to solving\n",
        "8837 a difficult data analysis problem to having fun to helping 128\n",
        "someone else solve a problem.  This book assumes that\n",
        "everyone needs to know how to program ...\n",
        "\n",
        "The sum for the sample text above is 27486. The numbers can appear anywhere in the line.\n",
        "There can be any number of numbers in each line (including none).\n",
        "\n",
        "Handling The Data\n",
        "The basic outline of this problem is to read the file, look for integers using the re.findall(),\n",
        "looking for a regular expression of '[0-9]+' and then converting the extracted strings to integers\n",
        "and summing up the integers."
      ],
      "metadata": {
        "id": "Id5Ege2AL8vM"
      }
    },
    {
      "cell_type": "code",
      "source": [
        "from google.colab import files\n",
        "import io\n",
        "import re\n",
        "\n",
        "with open('/content/drive/MyDrive/Chăm chỉ lại từ đầu/Crawl Data Learning/regex_sum_1542202.txt', 'r') as f:    \n",
        "   text=f.read()\n",
        "\n",
        "emptyList = []\n",
        "textNumber = re.findall('[0-9]+', text)\n",
        "for string in textNumber: \n",
        "  converted_num = int(string)\n",
        "  emptyList.append(converted_num)\n",
        "print(\"The sum of the list will be: \", sum(emptyList))\n"
      ],
      "metadata": {
        "colab": {
          "base_uri": "https://localhost:8080/"
        },
        "id": "epyMf6WQLlbv",
        "outputId": "7bcb30b0-5932-43cf-e3ab-a39b62d52634"
      },
      "execution_count": null,
      "outputs": [
        {
          "output_type": "stream",
          "name": "stdout",
          "text": [
            "The sum of the list will be:  496025\n"
          ]
        }
      ]
    },
    {
      "cell_type": "code",
      "source": [
        ""
      ],
      "metadata": {
        "id": "eWjA5dE1LuEV"
      },
      "execution_count": null,
      "outputs": []
    }
  ]
}