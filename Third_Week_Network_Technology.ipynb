{
  "nbformat": 4,
  "nbformat_minor": 0,
  "metadata": {
    "colab": {
      "name": "\bThird Week - Network Technology.ipynb",
      "provenance": [],
      "collapsed_sections": [],
      "authorship_tag": "ABX9TyNZFXDkGxGOPHIFoE7z3xbl",
      "include_colab_link": true
    },
    "kernelspec": {
      "name": "python3",
      "display_name": "Python 3"
    },
    "language_info": {
      "name": "python"
    }
  },
  "cells": [
    {
      "cell_type": "markdown",
      "metadata": {
        "id": "view-in-github",
        "colab_type": "text"
      },
      "source": [
        "<a href=\"https://colab.research.google.com/github/ducminhngo871/Using-Python-to-Access-Web-Data-/blob/main/%08Third_Week_Network_Technology.ipynb\" target=\"_parent\"><img src=\"https://colab.research.google.com/assets/colab-badge.svg\" alt=\"Open In Colab\"/></a>"
      ]
    },
    {
      "cell_type": "markdown",
      "source": [
        "Subject Video"
      ],
      "metadata": {
        "id": "1XtkQG5syIZd"
      }
    },
    {
      "cell_type": "code",
      "execution_count": 3,
      "metadata": {
        "colab": {
          "base_uri": "https://localhost:8080/"
        },
        "id": "MIiVluuFFlD4",
        "outputId": "e5ac9a4a-602e-4fd7-b3f9-5bfe0e1f7a4a"
      },
      "outputs": [
        {
          "output_type": "stream",
          "name": "stdout",
          "text": [
            "HTTP/1.1 400 Bad Request\r\n",
            "Date: Tue, 26 Apr 2022 22:58:01 GMT\r\n",
            "Server: Apache/2.4.18 (Ubuntu)\r\n",
            "Content-Length: 308\r\n",
            "Connection: close\r\n",
            "Content-Type: text/html; charset=iso-8859-1\r\n",
            "\r\n",
            "<!DOCTYPE HTML PUBLIC \"-//IETF//DTD HTML 2.0//EN\">\n",
            "<html><head>\n",
            "<title>400 Bad Request</title>\n",
            "</head><body>\n",
            "<h1>Bad Request</h1>\n",
            "<p>Your browser sent a request that this server could not understand.<br />\n",
            "</p>\n",
            "<hr>\n",
            "<address>Apache/2.4.18 (Ubuntu) Server at do1.dr-chuck.com Port 80</address>\n",
            "</body></html>\n",
            "\n"
          ]
        }
      ],
      "source": [
        "import socket\n",
        "mysock = socket.socket(socket.AF_INET, socket.SOCK_STREAM)\n",
        "# server = \"www.py4inf.com\"\n",
        "# server_ip = \"198.251.66.43\" #ping server in cmd\n",
        "# port = 80\n",
        "\n",
        "mysock.connect(('data.pr4e.org', 80))\n",
        "\n",
        "request = \"GET http://www.py4inf.com/code/romeo.txt HTTP/1.0\\n\\n\"\n",
        "\n",
        "mysock.send(request.encode())\n",
        "\n",
        "while True:\n",
        "    data = mysock.recv(512)\n",
        "    if (len(data) < 1):\n",
        "        break\n",
        "    print(data.decode())\n",
        "mysock.close()\n",
        "\n"
      ]
    },
    {
      "cell_type": "code",
      "source": [
        "\"\"\"\n",
        "Simple Web Browser\n",
        "\n",
        "\"\"\"\n",
        "\n",
        "import socket\n",
        "headjack = socket.socket(socket.AF_INET, socket.SOCK_STREAM)\n",
        "server = 'data.pr4e.org'\n",
        "server_ip = \"198.251.66.43\" #ping server in cmd\n",
        "port = 80\n",
        "\n",
        "#headjack.send()\n",
        "headjack.connect((server, port))\n",
        "\n",
        "request = 'GET http://data.pr4e.org/romeo.txt HTTP/1.0\\r\\n\\r\\n'\n",
        "\n",
        "headjack.send(request.encode())\n",
        "\n",
        "while True:\n",
        "    data = headjack.recv(512)\n",
        "    if (len(data) < 1):\n",
        "        break\n",
        "    print(data)\n",
        "\n",
        "headjack.close()"
      ],
      "metadata": {
        "colab": {
          "base_uri": "https://localhost:8080/"
        },
        "id": "nRVYlLbwGdWO",
        "outputId": "426b62a0-279f-4372-b110-2fb915d21c74"
      },
      "execution_count": 13,
      "outputs": [
        {
          "output_type": "stream",
          "name": "stdout",
          "text": [
            "b'HTTP/1.1 200 OK\\r\\nDate: Tue, 26 Apr 2022 23:17:10 GMT\\r\\nServer: Apache/2.4.18 (Ubuntu)\\r\\nLast-Modified: Sat, 13 May 2017 11:22:22 GMT\\r\\nETag: \"a7-54f6609245537\"\\r\\nAccept-Ranges: bytes\\r\\nContent-Length: 167\\r\\nCache-Control: max-age=0, no-cache, no-store, must-revalidate\\r\\nPragma: no-cache\\r\\nExpires: Wed, 11 Jan 1984 05:00:00 GMT\\r\\nConnection: close\\r\\nContent-Type: text/plain\\r\\n\\r\\nBut soft what light through yonder window breaks\\nIt is the east and Juliet is the sun\\nArise fair sun and kill the envious moon\\nWho is already s'\n",
            "b'ick and pale with grief\\n'\n"
          ]
        }
      ]
    },
    {
      "cell_type": "markdown",
      "source": [
        "ASSIGNMENT"
      ],
      "metadata": {
        "id": "VvD7GdDPyGz5"
      }
    },
    {
      "cell_type": "code",
      "source": [
        "import socket\n",
        "\n",
        "mysock = socket.socket(socket.AF_INET, socket.SOCK_STREAM)\n",
        "mysock.connect(('data.pr4e.org', 80))\n",
        "cmd = 'GET http://data.pr4e.org/intro-short.txt HTTP/1.0\\r\\n\\r\\n'.encode()\n",
        "mysock.send(cmd)\n",
        "\n",
        "while True:\n",
        "    data = mysock.recv(512)\n",
        "    if (len(data) < 1):\n",
        "        break\n",
        "    print(data.decode())\n",
        "mysock.close()"
      ],
      "metadata": {
        "colab": {
          "base_uri": "https://localhost:8080/"
        },
        "id": "RLjMd-6fqMH7",
        "outputId": "d745449c-d20f-411a-c1ce-342c693c9234"
      },
      "execution_count": 1,
      "outputs": [
        {
          "output_type": "stream",
          "name": "stdout",
          "text": [
            "HTTP/1.1 200 OK\r\n",
            "Date: Wed, 27 Apr 2022 01:35:37 GMT\r\n",
            "Server: Apache/2.4.18 (Ubuntu)\r\n",
            "Last-Modified: Sat, 13 May 2017 11:22:22 GMT\r\n",
            "ETag: \"1d3-54f6609240717\"\r\n",
            "Accept-Ranges: bytes\r\n",
            "Content-Length: 467\r\n",
            "Cache-Control: max-age=0, no-cache, no-store, must-revalidate\r\n",
            "Pragma: no-cache\r\n",
            "Expires: Wed, 11 Jan 1984 05:00:00 GMT\r\n",
            "Connection: close\r\n",
            "Content-Type: text/plain\r\n",
            "\r\n",
            "Why should you learn to write programs?\n",
            "\n",
            "Writing programs (or programming) is a very creative \n",
            "and rewarding activity.  You can write programs\n",
            " for \n",
            "many reasons, ranging from making your living to solving\n",
            "a difficult data analysis problem to having fun to helping\n",
            "someone else solve a problem.  This book assumes that \n",
            "everyone needs to know how to program, and that once \n",
            "you know how to program you will figure out what you want \n",
            "to do with your newfound skills.  \n",
            "\n"
          ]
        }
      ]
    }
  ]
}