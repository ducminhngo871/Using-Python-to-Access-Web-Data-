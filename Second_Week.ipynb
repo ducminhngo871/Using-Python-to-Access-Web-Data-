{
  "nbformat": 4,
  "nbformat_minor": 0,
  "metadata": {
    "colab": {
      "name": "Second Week.ipynb",
      "provenance": [],
      "collapsed_sections": [],
      "authorship_tag": "ABX9TyO72fo5a3LFrUtj85qpJDUb",
      "include_colab_link": true
    },
    "kernelspec": {
      "name": "python3",
      "display_name": "Python 3"
    },
    "language_info": {
      "name": "python"
    }
  },
  "cells": [
    {
      "cell_type": "markdown",
      "metadata": {
        "id": "view-in-github",
        "colab_type": "text"
      },
      "source": [
        "<a href=\"https://colab.research.google.com/github/ducminhngo871/Using-Python-to-Access-Web-Data-/blob/main/Second_Week.ipynb\" target=\"_parent\"><img src=\"https://colab.research.google.com/assets/colab-badge.svg\" alt=\"Open In Colab\"/></a>"
      ]
    },
    {
      "cell_type": "markdown",
      "source": [
        "Here is the material for the second week "
      ],
      "metadata": {
        "id": "NZaOuwIYLf0L"
      }
    },
    {
      "cell_type": "code",
      "execution_count": null,
      "metadata": {
        "colab": {
          "base_uri": "https://localhost:8080/"
        },
        "id": "BczngGn1Nttr",
        "outputId": "eadbf685-3f2a-4e17-a709-bddbdd7cdfa3"
      },
      "outputs": [
        {
          "output_type": "stream",
          "name": "stdout",
          "text": [
            "['2', '19', '42']\n",
            "[]\n"
          ]
        }
      ],
      "source": [
        "import re\n",
        "x = \"My 2 favorite number are 19 and 42\"\n",
        "y = re.findall('[0-9]+', x)\n",
        "print(y)\n",
        "z = re.findall('[AEIOU]+', x)\n",
        "print(z)"
      ]
    },
    {
      "cell_type": "code",
      "source": [
        "import re\n",
        "sentence = \"From: Using the: character\"\n",
        "real = re.findall('^F.+?:', sentence)\n",
        "print(real)"
      ],
      "metadata": {
        "colab": {
          "base_uri": "https://localhost:8080/"
        },
        "id": "jMRdMkYsykka",
        "outputId": "730f3345-ff12-4193-f80f-398b0cd66f14"
      },
      "execution_count": null,
      "outputs": [
        {
          "output_type": "stream",
          "name": "stdout",
          "text": [
            "['From:']\n"
          ]
        }
      ]
    },
    {
      "cell_type": "code",
      "source": [
        "email = \"From ducngo.maca@mac.edu Sat Jan\"\n",
        "emailFinder = re.findall('From \\S+@\\S+', email)\n",
        "print(emailFinder)\n",
        "\n",
        "emailFinderRemoveFrom = re.findall('From (\\S+@\\S+)', email)\n",
        "print(emailFinderRemoveFrom)"
      ],
      "metadata": {
        "colab": {
          "base_uri": "https://localhost:8080/"
        },
        "id": "WUxmTrIdz3Y4",
        "outputId": "e17facbd-a1db-4df1-9d7b-cc27159f7fbf"
      },
      "execution_count": null,
      "outputs": [
        {
          "output_type": "stream",
          "name": "stdout",
          "text": [
            "['From ducngo.maca@mac.edu']\n",
            "['ducngo.maca@mac.edu']\n"
          ]
        }
      ]
    },
    {
      "cell_type": "code",
      "source": [
        "e = \"From stephen.marquard@uct.ac.za Sat Jan  5 09:14:16 2008\"\n",
        "e1 = re.findall('@(\\S+)', e)\n",
        "print(e1)\n",
        "\n",
        "e2 = re.findall('..@\\S+..', e)\n",
        "print(e2)\n",
        "\n",
        "e3 = re.findall('@\\S+', e)\n",
        "print(e3)\n",
        "\n",
        "e4 = re.findall('[a-z0-9]', e)\n",
        "print(e4)"
      ],
      "metadata": {
        "colab": {
          "base_uri": "https://localhost:8080/"
        },
        "id": "mry4ubvc0Ruy",
        "outputId": "0b92fa1e-4b7e-4708-f341-30d6eed99f21"
      },
      "execution_count": null,
      "outputs": [
        {
          "output_type": "stream",
          "name": "stdout",
          "text": [
            "['uct.ac.za']\n",
            "['rd@uct.ac.za S']\n",
            "['@uct.ac.za']\n",
            "['r', 'o', 'm', 's', 't', 'e', 'p', 'h', 'e', 'n', 'm', 'a', 'r', 'q', 'u', 'a', 'r', 'd', 'u', 'c', 't', 'a', 'c', 'z', 'a', 'a', 't', 'a', 'n', '5', '0', '9', '1', '4', '1', '6', '2', '0', '0', '8']\n"
          ]
        }
      ]
    },
    {
      "cell_type": "code",
      "source": [
        "x = 'From: Using the : character'\n",
        "y = re.findall('^F.+:', x)\n",
        "print(y)"
      ],
      "metadata": {
        "colab": {
          "base_uri": "https://localhost:8080/"
        },
        "id": "XMDib2bt4TXG",
        "outputId": "112695fe-f5ac-4215-c825-92615d09ddb3"
      },
      "execution_count": null,
      "outputs": [
        {
          "output_type": "stream",
          "name": "stdout",
          "text": [
            "['From: Using the :']\n"
          ]
        }
      ]
    },
    {
      "cell_type": "code",
      "source": [
        "a = \"From stephen.marquard@uct.ac.za Sat Jan  5 09:14:16 2008\"\n",
        "b = re.findall('\\S+?@\\S+', a)\n",
        "print(b)"
      ],
      "metadata": {
        "colab": {
          "base_uri": "https://localhost:8080/"
        },
        "id": "3ShOqK104_ig",
        "outputId": "ba1af52e-6a80-4803-e036-e903bdbe37e2"
      },
      "execution_count": null,
      "outputs": [
        {
          "output_type": "stream",
          "name": "stdout",
          "text": [
            "['stephen.marquard@uct.ac.za']\n"
          ]
        }
      ]
    }
  ]
}